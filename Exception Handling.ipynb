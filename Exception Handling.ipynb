{
 "cells": [
  {
   "cell_type": "markdown",
   "id": "ca6266ef",
   "metadata": {},
   "source": [
    "# Exception Handling"
   ]
  },
  {
   "cell_type": "markdown",
   "id": "91a18ae6",
   "metadata": {},
   "source": [
    "# Syntax Error"
   ]
  },
  {
   "cell_type": "code",
   "execution_count": 1,
   "id": "e4c47d22",
   "metadata": {},
   "outputs": [
    {
     "ename": "SyntaxError",
     "evalue": "invalid syntax (1278260237.py, line 1)",
     "output_type": "error",
     "traceback": [
      "\u001b[1;36m  Input \u001b[1;32mIn [1]\u001b[1;36m\u001b[0m\n\u001b[1;33m    for i in range(10)\u001b[0m\n\u001b[1;37m                      ^\u001b[0m\n\u001b[1;31mSyntaxError\u001b[0m\u001b[1;31m:\u001b[0m invalid syntax\n"
     ]
    }
   ],
   "source": [
    "for i in range(10)\n",
    "print(i)"
   ]
  },
  {
   "cell_type": "markdown",
   "id": "8005c51f",
   "metadata": {},
   "source": [
    "# Zero Division Error"
   ]
  },
  {
   "cell_type": "code",
   "execution_count": 2,
   "id": "3de2a2c9",
   "metadata": {},
   "outputs": [
    {
     "name": "stdout",
     "output_type": "stream",
     "text": [
      "10\n",
      "0\n"
     ]
    },
    {
     "ename": "ZeroDivisionError",
     "evalue": "division by zero",
     "output_type": "error",
     "traceback": [
      "\u001b[1;31m---------------------------------------------------------------------------\u001b[0m",
      "\u001b[1;31mZeroDivisionError\u001b[0m                         Traceback (most recent call last)",
      "Input \u001b[1;32mIn [2]\u001b[0m, in \u001b[0;36m<cell line: 3>\u001b[1;34m()\u001b[0m\n\u001b[0;32m      1\u001b[0m a \u001b[38;5;241m=\u001b[39m \u001b[38;5;28mint\u001b[39m(\u001b[38;5;28minput\u001b[39m())\n\u001b[0;32m      2\u001b[0m b \u001b[38;5;241m=\u001b[39m \u001b[38;5;28mint\u001b[39m(\u001b[38;5;28minput\u001b[39m())\n\u001b[1;32m----> 3\u001b[0m \u001b[38;5;28mprint\u001b[39m(\u001b[43ma\u001b[49m\u001b[38;5;241;43m/\u001b[39;49m\u001b[43mb\u001b[49m)\n",
      "\u001b[1;31mZeroDivisionError\u001b[0m: division by zero"
     ]
    }
   ],
   "source": [
    "a = int(input())\n",
    "b = int(input())\n",
    "print(a/b)"
   ]
  },
  {
   "cell_type": "markdown",
   "id": "53db4ca1",
   "metadata": {},
   "source": [
    "## Blocks of Exception Handling\n",
    "\n",
    "TRY - Instructions from which we are expecting the exceptions\n",
    "\n",
    "EXCEPT - Exceptions raised in try block will be handled in this block\n",
    "\n",
    "ELSE - If there are no exceptions, else block will gets executed\n",
    "\n",
    "FINALLY - Always the finally block gets executed(Even if exception raised or not)\n",
    "\n",
    "ELSE & FINALLY are optional"
   ]
  },
  {
   "cell_type": "markdown",
   "id": "ccd4b6b7",
   "metadata": {},
   "source": [
    "# Example"
   ]
  },
  {
   "cell_type": "code",
   "execution_count": 4,
   "id": "5dfb55a7",
   "metadata": {},
   "outputs": [
    {
     "name": "stdout",
     "output_type": "stream",
     "text": [
      "Enter the value for A: 10\n",
      "Enter the value for B: 0\n",
      "Exception Raised.\n",
      "Program Ends\n"
     ]
    }
   ],
   "source": [
    "a = int(input(\"Enter the value for A: \"))\n",
    "b = int(input(\"Enter the value for B: \"))\n",
    "\n",
    "try:\n",
    "    c = a / b\n",
    "    print(c)\n",
    "    \n",
    "except:\n",
    "    print(\"Exception Raised.\")\n",
    "    \n",
    "else:\n",
    "    print(\"No Exception Raised...\")\n",
    "    \n",
    "finally:\n",
    "    print('Program Ends')"
   ]
  },
  {
   "cell_type": "markdown",
   "id": "e4e2d996",
   "metadata": {},
   "source": [
    "# Single Exceptions"
   ]
  },
  {
   "cell_type": "code",
   "execution_count": 8,
   "id": "e6053326",
   "metadata": {},
   "outputs": [
    {
     "name": "stdout",
     "output_type": "stream",
     "text": [
      "Enter the value for A: 10\n",
      "Enter the value for B: 0\n",
      "division by zero\n"
     ]
    }
   ],
   "source": [
    "# ZeroDivisionError\n",
    "\n",
    "a = int(input(\"Enter the value for A: \"))\n",
    "b = int(input(\"Enter the value for B: \"))\n",
    "\n",
    "l = [10,20,30,40,50]\n",
    "\n",
    "try:\n",
    "    c = a / b\n",
    "    print(c)\n",
    "    print(l[5])\n",
    "\n",
    "except Exception as e:\n",
    "    print(e)"
   ]
  },
  {
   "cell_type": "code",
   "execution_count": 12,
   "id": "90ebac10",
   "metadata": {},
   "outputs": [
    {
     "name": "stdout",
     "output_type": "stream",
     "text": [
      "Enter the value for A: 10\n",
      "Enter the value for B: 0\n",
      "Exception raised and using default value for denominator\n",
      "10.0\n"
     ]
    }
   ],
   "source": [
    "# Handling ZeroDivisionError\n",
    "\n",
    "a = int(input(\"Enter the value for A: \"))\n",
    "b = int(input(\"Enter the value for B: \"))\n",
    "\n",
    "try:\n",
    "    c = a / b\n",
    "    print(c)\n",
    "    print(l[5])\n",
    "    \n",
    "except ZeroDivisionError:\n",
    "    print(\"Exception raised and using default value for denominator\")\n",
    "    b = 1\n",
    "    c = a / b\n",
    "    print(c)"
   ]
  },
  {
   "cell_type": "code",
   "execution_count": 14,
   "id": "e2db84ee",
   "metadata": {},
   "outputs": [
    {
     "name": "stdout",
     "output_type": "stream",
     "text": [
      "Enter the value for A: 10\n",
      "Enter the value for B: 2\n",
      "5.0\n"
     ]
    },
    {
     "ename": "IndexError",
     "evalue": "list index out of range",
     "output_type": "error",
     "traceback": [
      "\u001b[1;31m---------------------------------------------------------------------------\u001b[0m",
      "\u001b[1;31mIndexError\u001b[0m                                Traceback (most recent call last)",
      "Input \u001b[1;32mIn [14]\u001b[0m, in \u001b[0;36m<cell line: 6>\u001b[1;34m()\u001b[0m\n\u001b[0;32m      7\u001b[0m     c \u001b[38;5;241m=\u001b[39m a \u001b[38;5;241m/\u001b[39m b\n\u001b[0;32m      8\u001b[0m     \u001b[38;5;28mprint\u001b[39m(c)\n\u001b[1;32m----> 9\u001b[0m     \u001b[38;5;28mprint\u001b[39m(\u001b[43ml\u001b[49m\u001b[43m[\u001b[49m\u001b[38;5;241;43m5\u001b[39;49m\u001b[43m]\u001b[49m)\n\u001b[0;32m     11\u001b[0m \u001b[38;5;28;01mexcept\u001b[39;00m \u001b[38;5;167;01mZeroDivisionError\u001b[39;00m:\n\u001b[0;32m     12\u001b[0m     \u001b[38;5;28mprint\u001b[39m(\u001b[38;5;124m\"\u001b[39m\u001b[38;5;124mException raised and using default value for denominator\u001b[39m\u001b[38;5;124m\"\u001b[39m)\n",
      "\u001b[1;31mIndexError\u001b[0m: list index out of range"
     ]
    }
   ],
   "source": [
    "# IndexError\n",
    "\n",
    "a = int(input(\"Enter the value for A: \"))\n",
    "b = int(input(\"Enter the value for B: \"))\n",
    "\n",
    "try:\n",
    "    c = a / b\n",
    "    print(c)\n",
    "    print(l[5]) # IndexError\n",
    "    \n",
    "except ZeroDivisionError:\n",
    "    print(\"Exception raised and using default value for denominator\")\n",
    "    b = 1\n",
    "    c = a / b\n",
    "    print(c)"
   ]
  },
  {
   "cell_type": "code",
   "execution_count": 15,
   "id": "5ab54f18",
   "metadata": {},
   "outputs": [
    {
     "name": "stdout",
     "output_type": "stream",
     "text": [
      "Enter the value for A: 10\n",
      "Enter the value for B: 2\n",
      "5.0\n",
      "Exception raised and using default value for denominator\n",
      "10.0\n"
     ]
    }
   ],
   "source": [
    "# Handling IndexError\n",
    "a = int(input(\"Enter the value for A: \"))\n",
    "b = int(input(\"Enter the value for B: \"))\n",
    "\n",
    "l = [10,20,30,40,50]\n",
    "\n",
    "try:\n",
    "    c = a / b\n",
    "    print(c)\n",
    "    print(l[5]) # IndexError\n",
    "\n",
    "except IndexError:\n",
    "    print(\"Exception raised and using default value for denominator\")\n",
    "    b = 1\n",
    "    c = a / b\n",
    "    print(c)"
   ]
  },
  {
   "cell_type": "markdown",
   "id": "a91c2877",
   "metadata": {},
   "source": [
    "# Multiple Exceptions"
   ]
  },
  {
   "cell_type": "code",
   "execution_count": 16,
   "id": "ccd30a65",
   "metadata": {},
   "outputs": [
    {
     "name": "stdout",
     "output_type": "stream",
     "text": [
      "Enter the value for A: 10\n",
      "Enter the value for B: 2\n",
      "5.0\n",
      "List index out of range\n"
     ]
    }
   ],
   "source": [
    "a = int(input(\"Enter the value for A: \"))\n",
    "b = int(input(\"Enter the value for B: \"))\n",
    "\n",
    "l = [10,20,30,40,50]\n",
    "\n",
    "try:\n",
    "    c = a / b\n",
    "    print(c)\n",
    "    print(l[5])\n",
    "\n",
    "except ZeroDivisionError:\n",
    "    print('Division by zero exception raised')\n",
    "    \n",
    "except IndexError:\n",
    "    print('List index out of range')\n",
    "    \n",
    "except:\n",
    "    print('Exception Raised')"
   ]
  },
  {
   "cell_type": "code",
   "execution_count": 17,
   "id": "9563809b",
   "metadata": {},
   "outputs": [
    {
     "name": "stdout",
     "output_type": "stream",
     "text": [
      "Enter the value for A: 10\n",
      "Enter the value for B: 0\n",
      "Exception Raised\n"
     ]
    }
   ],
   "source": [
    "a = int(input(\"Enter the value for A: \"))\n",
    "b = int(input(\"Enter the value for B: \"))\n",
    "\n",
    "l = [10,20,30,40,50]\n",
    "\n",
    "try:\n",
    "    d = 'python' + 20 # first exception - type error\n",
    "    c = a / b\n",
    "    print(c)\n",
    "    print(l[5])\n",
    "\n",
    "except ZeroDivisionError:\n",
    "    print('Division by zero exception raised')\n",
    "    \n",
    "except IndexError:\n",
    "    print('List index out of range')\n",
    "    \n",
    "except:\n",
    "    print('Exception Raised')"
   ]
  },
  {
   "cell_type": "code",
   "execution_count": 19,
   "id": "97af3f7f",
   "metadata": {},
   "outputs": [
    {
     "name": "stdout",
     "output_type": "stream",
     "text": [
      "Enter the value for A: 10\n",
      "Enter the value for B: 2\n",
      "5.0\n",
      "50\n"
     ]
    },
    {
     "ename": "TypeError",
     "evalue": "can only concatenate str (not \"int\") to str",
     "output_type": "error",
     "traceback": [
      "\u001b[1;31m---------------------------------------------------------------------------\u001b[0m",
      "\u001b[1;31mTypeError\u001b[0m                                 Traceback (most recent call last)",
      "Input \u001b[1;32mIn [19]\u001b[0m, in \u001b[0;36m<cell line: 6>\u001b[1;34m()\u001b[0m\n\u001b[0;32m      8\u001b[0m     \u001b[38;5;28mprint\u001b[39m(c)\n\u001b[0;32m      9\u001b[0m     \u001b[38;5;28mprint\u001b[39m(l[\u001b[38;5;241m4\u001b[39m])\n\u001b[1;32m---> 10\u001b[0m     d \u001b[38;5;241m=\u001b[39m \u001b[38;5;124;43m'\u001b[39;49m\u001b[38;5;124;43mpython\u001b[39;49m\u001b[38;5;124;43m'\u001b[39;49m\u001b[43m \u001b[49m\u001b[38;5;241;43m+\u001b[39;49m\u001b[43m \u001b[49m\u001b[38;5;241;43m20\u001b[39;49m \u001b[38;5;66;03m# - type error\u001b[39;00m\n\u001b[0;32m     12\u001b[0m \u001b[38;5;28;01mexcept\u001b[39;00m (\u001b[38;5;167;01mZeroDivisionError\u001b[39;00m, \u001b[38;5;167;01mIndexError\u001b[39;00m):\n\u001b[0;32m     13\u001b[0m     \u001b[38;5;28mprint\u001b[39m(\u001b[38;5;124m'\u001b[39m\u001b[38;5;124mException Raised\u001b[39m\u001b[38;5;124m'\u001b[39m)\n",
      "\u001b[1;31mTypeError\u001b[0m: can only concatenate str (not \"int\") to str"
     ]
    }
   ],
   "source": [
    "# Exceptions other than ZeroDivisionError & IndexError not mentioned that's why exception occurs\n",
    "a = int(input(\"Enter the value for A: \"))\n",
    "b = int(input(\"Enter the value for B: \"))\n",
    "\n",
    "l = [10,20,30,40,50]\n",
    "\n",
    "try: \n",
    "    c = a / b\n",
    "    print(c)\n",
    "    print(l[4])\n",
    "    d = 'python' + 20 # - type error\n",
    "    \n",
    "except (ZeroDivisionError, IndexError):\n",
    "    print('Exception Raised')\n",
    "    "
   ]
  },
  {
   "cell_type": "code",
   "execution_count": 24,
   "id": "54bcb5ec",
   "metadata": {},
   "outputs": [
    {
     "name": "stdout",
     "output_type": "stream",
     "text": [
      "Enter the value for A: 10\n",
      "Enter the value for B: 2\n",
      "5.0\n",
      "50\n",
      "Exception occured is : can only concatenate str (not \"int\") to str\n"
     ]
    }
   ],
   "source": [
    "# Handling the above cell exception\n",
    "a = int(input(\"Enter the value for A: \"))\n",
    "b = int(input(\"Enter the value for B: \"))\n",
    "\n",
    "l = [10,20,30,40,50]\n",
    "\n",
    "try: \n",
    "    c = a / b\n",
    "    print(c)\n",
    "    print(l[4])\n",
    "    d = 'python' + 20 # - type error\n",
    "    \n",
    "except (ZeroDivisionError, IndexError):\n",
    "    print('Exception Raised')\n",
    "    \n",
    "except Exception as e:\n",
    "    print('Exception occured is :', e)"
   ]
  },
  {
   "cell_type": "code",
   "execution_count": null,
   "id": "553eee4d",
   "metadata": {},
   "outputs": [],
   "source": []
  }
 ],
 "metadata": {
  "kernelspec": {
   "display_name": "Python 3 (ipykernel)",
   "language": "python",
   "name": "python3"
  },
  "language_info": {
   "codemirror_mode": {
    "name": "ipython",
    "version": 3
   },
   "file_extension": ".py",
   "mimetype": "text/x-python",
   "name": "python",
   "nbconvert_exporter": "python",
   "pygments_lexer": "ipython3",
   "version": "3.9.12"
  }
 },
 "nbformat": 4,
 "nbformat_minor": 5
}
